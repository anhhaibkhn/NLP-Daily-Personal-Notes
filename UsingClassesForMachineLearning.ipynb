{
 "nbformat": 4,
 "nbformat_minor": 2,
 "metadata": {
  "language_info": {
   "name": "python",
   "codemirror_mode": {
    "name": "ipython",
    "version": 3
   },
   "version": "3.7.7-final"
  },
  "orig_nbformat": 2,
  "file_extension": ".py",
  "mimetype": "text/x-python",
  "name": "python",
  "npconvert_exporter": "python",
  "pygments_lexer": "ipython3",
  "version": 3,
  "kernelspec": {
   "name": "python37464bitvirtualenvvenv9acec58b124a4af58980f597288afade",
   "display_name": "Python 3.7.4 64-bit ('virtual_env': venv)"
  }
 },
 "cells": [
  {
   "cell_type": "code",
   "execution_count": 30,
   "metadata": {},
   "outputs": [
    {
     "output_type": "stream",
     "name": "stdout",
     "text": "Accuracy:  0.44827539901361657\n"
    }
   ],
   "source": [
    "# Source: https://towardsdatascience.com/using-classes-for-machine-learning-2ed6c0713305\n",
    "\"\"\"TARGET: object-oriented programming for reading data, splitting data for training, fitting models, and making predictions. We will be using weather data which can be found here.\"\"\"\n",
    "\n",
    "import pandas as pd \n",
    "from sklearn.linear_model import LinearRegression # to add linear regression object\n",
    "from sklearn.ensemble import  RandomForestRegressor # add Random forest ojbect to our class\n",
    "\n",
    "from sklearn.model_selection import train_test_split # for a method to split data\n",
    "import numpy as np\n",
    "\n",
    "class TestModel:\n",
    "    def __init__(self, model_type, datafile = \"weatherHistory.csv\" ):\n",
    "        self.df = pd.read_csv(datafile)    \n",
    "\n",
    "        if model_type == 'rf':   # add random forest model object too      \n",
    "            self.user_defined_model = RandomForestRegressor()\n",
    "        else:\n",
    "            self.user_defined_model = LinearRegression() # LinearRegression is a separate class \n",
    "\n",
    "    def split(self, test_size):\n",
    "        X = np.array(self.df[['Humidity','Pressure (millibars)']])\n",
    "        y = np.array(self.df['Temperature (C)'])\n",
    "        self.X_train, self.X_test, self.y_train, self.y_test = train_test_split(X, y, test_size= test_size, random_state = 42)\n",
    "\n",
    "\n",
    "    def fit(self):\n",
    "        self.TestModel = self.user_defined_model.fit(self.X_train, self.y_train)\n",
    "\n",
    "    def predict(self, input_value=None):\n",
    "        if input_value == None:\n",
    "            result = self.user_defined_model.predict(self.X_test) #if nothing, predictions on test input\n",
    "        else:\n",
    "            result = self.user_defined_model.predict(np.array([input_value])) \n",
    "        return result\n",
    "\n",
    "\n",
    "if __name__ == '__main__':\n",
    "    model_instance = TestModel(model_type = 'rf') # Create an instance for TestModel\n",
    "    # print(model_instance.df.head()) # check if we can access instance data\n",
    "    # print(model_instance.linear_reg)\n",
    "    model_instance.split(0.2)\n",
    "    # print(model_instance.X_train)\n",
    "    # print(model_instance.y_train)\n",
    "    model_instance.fit()\n",
    "    # print(model_instance.predict())\n",
    "    print(\"Accuracy: \", model_instance.TestModel.score(model_instance.X_test, model_instance.y_test))\n",
    "\n",
    "    # print(model_instance.predict([0.9 , 1000]))\n",
    "\n",
    "    \n",
    ""
   ]
  },
  {
   "cell_type": "code",
   "execution_count": 26,
   "metadata": {},
   "outputs": [
    {
     "output_type": "stream",
     "name": "stdout",
     "text": "[9.57755556]\n"
    }
   ],
   "source": [
    " print(model_instance.predict([0.9 , 1000]))\n",
    "\n",
    "\n"
   ]
  },
  {
   "cell_type": "code",
   "execution_count": null,
   "metadata": {},
   "outputs": [],
   "source": []
  }
 ]
}