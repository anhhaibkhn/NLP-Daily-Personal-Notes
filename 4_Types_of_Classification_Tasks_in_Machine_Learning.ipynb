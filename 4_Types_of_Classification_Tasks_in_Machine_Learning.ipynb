{
  "nbformat": 4,
  "nbformat_minor": 0,
  "metadata": {
    "colab": {
      "name": "4 Types of Classification Tasks in Machine Learning.ipynb",
      "provenance": [],
      "collapsed_sections": [],
      "authorship_tag": "ABX9TyNlXQTeRxi9rirXN5gUImO0",
      "include_colab_link": true
    },
    "kernelspec": {
      "name": "python3",
      "display_name": "Python 3"
    }
  },
  "cells": [
    {
      "cell_type": "markdown",
      "metadata": {
        "id": "view-in-github",
        "colab_type": "text"
      },
      "source": [
        "<a href=\"https://colab.research.google.com/github/anhhaibkhn/NLP-Daily-Personal-Notes/blob/master/4_Types_of_Classification_Tasks_in_Machine_Learning.ipynb\" target=\"_parent\"><img src=\"https://colab.research.google.com/assets/colab-badge.svg\" alt=\"Open In Colab\"/></a>"
      ]
    },
    {
      "cell_type": "markdown",
      "metadata": {
        "id": "Kmfulbwnspfu",
        "colab_type": "text"
      },
      "source": [
        "### 4 Types of Classification Tasks in Machine Learning\n",
        "This tutorial was my summary note from [Jason Brownlee's article](https://machinelearningmastery.com/types-of-classification-in-machine-learning/)\n",
        "\n",
        "This tutorial will cover different types of classification predictive modeling in machine learning. An easy to understand example of classification task is classifying emails as “spam” or “not spam. \n",
        "\n",
        "The tutorial is divided as follows:\n",
        "\n",
        "* Classification Predictive Modeling\n",
        "1. Binary Classification\n",
        "2. Multi-Class Classification\n",
        "3. Multi-Label Classification\n",
        "4. Imbalanced Classification"
      ]
    },
    {
      "cell_type": "markdown",
      "metadata": {
        "id": "xTDLYFSN45xD",
        "colab_type": "text"
      },
      "source": [
        "### 1. Binary Classification \n",
        "\n",
        "Binary classification refers to those classification tasks that have two class labels.\n",
        "\n",
        "#### Examples :\n",
        "* Email spam detection (spam or not).\n",
        "* Churn prediction (churn or not).\n",
        "* Conversion prediction (buy or not).\n",
        "\n",
        "#### Popular algorithms that can be used for binary classification include:\n",
        "* Logistic Regression\n",
        "* k-Nearest Neighbors\n",
        "* Decision Trees\n",
        "* Support Vector Machine\n",
        "* Naive Bayes\n",
        "\n",
        "Some algorithms are specifically designed for binary classification and do not natively support more than two classes (Ex: **Logistic Regression** and **Support Vector Machines**)\n",
        "\n",
        "We can use the make_blobs() function to generate a synthetic binary classification dataset. The followed example generates a dataset with 1,000 examples that belong to one of two classes, each with two input features."
      ]
    },
    {
      "cell_type": "code",
      "metadata": {
        "id": "1Z0kLDrUsjz-",
        "colab_type": "code",
        "colab": {
          "base_uri": "https://localhost:8080/",
          "height": 526
        },
        "outputId": "76e5f6a5-deb3-4803-a6fb-2d0e7418706b"
      },
      "source": [
        "# example of binary classification task\n",
        "from numpy import where\n",
        "from collections import Counter\n",
        "from sklearn.datasets import make_blobs\n",
        "from matplotlib import pyplot\n",
        "\n",
        "# define dataset\n",
        "X, y = make_blobs(n_samples=1000, centers=2, random_state=1)\n",
        "# summarize dataset shape\n",
        "print(X.shape, y.shape)\n",
        "# summarize observations by class label\n",
        "counter = Counter(y)\n",
        "print(counter)\n",
        "\n",
        "# summarize first few examples\n",
        "for i in range(10):\n",
        "\tprint(X[i], y[i])\n",
        " \n",
        "# plot the dataset and color the by class label\n",
        "for label, _ in counter.items():\n",
        "\trow_ix = where(y == label)[0]\n",
        "\tpyplot.scatter(X[row_ix, 0], X[row_ix, 1], label=str(label))\n",
        " \n",
        "pyplot.legend()\n",
        "pyplot.show()\n",
        "\n",
        "'''The example first summarizes the created dataset showing the 1,000 examples divided into input (X) and output (y) elements. \n",
        "Instances belong to either class 0 or class 1 and that there are 500 examples in each class.\n",
        "The first 10 examples are summarized, showing the input values are numeric and the target values are integers that represent the class membership.'''"
      ],
      "execution_count": 1,
      "outputs": [
        {
          "output_type": "stream",
          "text": [
            "(1000, 2) (1000,)\n",
            "Counter({0: 500, 1: 500})\n",
            "[-3.05837272  4.48825769] 0\n",
            "[-8.60973869 -3.72714879] 1\n",
            "[1.37129721 5.23107449] 0\n",
            "[-9.33917563 -2.9544469 ] 1\n",
            "[-11.57178593  -3.85275513] 1\n",
            "[-11.42257341  -4.85679127] 1\n",
            "[-10.44518578  -3.76476563] 1\n",
            "[-10.44603561  -3.26065964] 1\n",
            "[-0.61947075  3.48804983] 0\n",
            "[-10.91115591  -4.5772537 ] 1\n"
          ],
          "name": "stdout"
        },
        {
          "output_type": "display_data",
          "data": {
            "image/png": "[encoded data removed]",
            "text/plain": [
              "<Figure size 432x288 with 1 Axes>"
            ]
          },
          "metadata": {
            "tags": [],
            "needs_background": "light"
          }
        },
        {
          "output_type": "execute_result",
          "data": {
            "application/vnd.google.colaboratory.intrinsic": {
              "type": "string"
            },
            "text/plain": [
              "'The example first summarizes the created dataset showing the 1,000 examples divided into input (X) and output (y) elements. \\nInstances belong to either class 0 or class 1 and that there are 500 examples in each class.\\nThe first 10 examples are summarized, showing the input values are numeric and the target values are integers that represent the class membership.'"
            ]
          },
          "metadata": {
            "tags": []
          },
          "execution_count": 1
        }
      ]
    },
    {
      "cell_type": "markdown",
      "metadata": {
        "id": "QIzlcZ9U6wSr",
        "colab_type": "text"
      },
      "source": [
        "### 2. Multi-Class Classification\n",
        "[Multi-class classification](https://en.wikipedia.org/wiki/Multiclass_classification) refers to those classification tasks that have more than two class labels.\n",
        "\n",
        "#### Examples:\n",
        "* Face classification.\n",
        "* Plant species classification.\n",
        "* Optical character recognition.\n",
        "\n",
        "It is common to model a multi-class classification task with a model that predicts a [Multinoulli probability](https://machinelearningmastery.com/discrete-probability-distributions-for-machine-learning/) distribution for each example.\n",
        "\n",
        "The Multinoulli distribution is a discrete probability distribution that covers a case where an event will have a categorical outcome, e.g. K in {1, 2, 3, …, K}. For classification, this means that the model predicts the probability of an example belonging to each class label.\n",
        "\n",
        "Many algorithms used for binary classification can be used for multi-class classification.\n",
        "\n",
        "#### Popular algorithms:\n",
        "* k-Nearest Neighbors.\n",
        "* Decision Trees.\n",
        "* Naive Bayes.\n",
        "* Random Forest.\n",
        "* Gradient Boosting.\n",
        "\n",
        "**NOTE : ** Algorithms that are designed for binary classification can be adapted for use for multi-class problems. This involves using a strategy of fitting multiple binary classification models for each class vs. all other classes (called one-vs-rest) or one model for each pair of classes (called one-vs-one).\n",
        "\n",
        "* One-vs-Rest: Fit one binary classification model for each class vs. all other classes.\n",
        "* One-vs-One: Fit one binary classification model for each pair of classes.\n",
        "\n",
        "\n",
        "Binary classification algorithms that can use these strategies for multi-class classification include:\n",
        "\n",
        "*   Logistic Regression.\n",
        "*   Support Vector Machine.\n",
        "\n",
        "\n"
      ]
    },
    {
      "cell_type": "code",
      "metadata": {
        "id": "yfXitLv06mb4",
        "colab_type": "code",
        "colab": {
          "base_uri": "https://localhost:8080/",
          "height": 491
        },
        "outputId": "90a47970-da2e-4f49-daaf-fe7942307d0e"
      },
      "source": [
        "# example of multi-class classification task\n",
        "from numpy import where\n",
        "from collections import Counter\n",
        "from sklearn.datasets import make_blobs\n",
        "from matplotlib import pyplot\n",
        "\n",
        "# define dataset\n",
        "X, y = make_blobs(n_samples=1000, centers=3, random_state=1)\n",
        "# summarize dataset shape\n",
        "print(X.shape, y.shape)\n",
        "# summarize observations by class label\n",
        "counter = Counter(y)\n",
        "print(counter)\n",
        "\n",
        "# summarize first few examples\n",
        "for i in range(10):\n",
        "\tprint(X[i], y[i])\n",
        " \n",
        "# plot the dataset and color the by class label\n",
        "for label, _ in counter.items():\n",
        "\trow_ix = where(y == label)[0]\n",
        "\tpyplot.scatter(X[row_ix, 0], X[row_ix, 1], label=str(label))\n",
        "pyplot.legend()\n",
        "pyplot.show()\n",
        "\n",
        "'''three distinct clusters that we might expect would be easy to discriminate.'''"
      ],
      "execution_count": 2,
      "outputs": [
        {
          "output_type": "stream",
          "text": [
            "(1000, 2) (1000,)\n",
            "Counter({0: 334, 1: 333, 2: 333})\n",
            "[-3.05837272  4.48825769] 0\n",
            "[-8.60973869 -3.72714879] 1\n",
            "[1.37129721 5.23107449] 0\n",
            "[-9.33917563 -2.9544469 ] 1\n",
            "[-8.63895561 -8.05263469] 2\n",
            "[-8.48974309 -9.05667083] 2\n",
            "[-7.51235546 -7.96464519] 2\n",
            "[-7.51320529 -7.46053919] 2\n",
            "[-0.61947075  3.48804983] 0\n",
            "[-10.91115591  -4.5772537 ] 1\n"
          ],
          "name": "stdout"
        },
        {
          "output_type": "display_data",
          "data": {
            "image/png": "[encoded data removed]",
            "text/plain": [
              "<Figure size 432x288 with 1 Axes>"
            ]
          },
          "metadata": {
            "tags": [],
            "needs_background": "light"
          }
        },
        {
          "output_type": "execute_result",
          "data": {
            "application/vnd.google.colaboratory.intrinsic": {
              "type": "string"
            },
            "text/plain": [
              "'three distinct clusters that we might expect would be easy to discriminate.'"
            ]
          },
          "metadata": {
            "tags": []
          },
          "execution_count": 2
        }
      ]
    },
    {
      "cell_type": "markdown",
      "metadata": {
        "id": "YcmHotiq8dxj",
        "colab_type": "text"
      },
      "source": [
        "### 3. Multi-Label Classification\n",
        "[Multi-label classification](https://en.wikipedia.org/wiki/Multi-label_classification) refers to those classification tasks that have two or more class labels, where one or more class labels may be predicted for each example.\n",
        "\n",
        "Example: [photo classification](https://machinelearningmastery.com/object-recognition-with-deep-learning/), where a given photo may have multiple objects in the scene and a model may predict the presence of multiple known objects in the photo, such as “bicycle,” “apple,” “person,” etc.\n",
        "\n",
        "\n",
        "Classification algorithms used for `binary` or `multi-class classification ` **cannot be used directly for multi-label classification**. Specialized versions of standard classification algorithms can be used, so-called multi-label versions of the algorithms, including:\n",
        "\n",
        "* Multi-label Decision Trees\n",
        "* Multi-label Random Forests\n",
        "* Multi-label Gradient Boosting\n",
        "\n",
        " to generate a synthetic multi-label classification dataset.\n",
        "\n",
        "The example below use the [make_multilabel_classification](https://scikit-learn.org/stable/modules/generated/sklearn.datasets.make_classification.html) function to generates a dataset with 1,000 examples, each with two input features. There are three classes, each of which may take on one of two labels (0 or 1).The 1st 10 examples in the dataset are summarized show:\n",
        "* the input values are numeric\n",
        "* the target values are integers that represent the class label membership.\n"
      ]
    },
    {
      "cell_type": "code",
      "metadata": {
        "id": "HSf_XcGz8Sux",
        "colab_type": "code",
        "colab": {
          "base_uri": "https://localhost:8080/",
          "height": 208
        },
        "outputId": "6b82bdf7-8b19-4eb3-bc66-56c5e57b717f"
      },
      "source": [
        "# example of a multi-label classification task\n",
        "from sklearn.datasets import make_multilabel_classification\n",
        "# define dataset\n",
        "X, y = make_multilabel_classification(n_samples=1000, n_features=2, n_classes=3, n_labels=2, random_state=1)\n",
        "# summarize dataset shape\n",
        "print(X.shape, y.shape)\n",
        "# summarize first few examples\n",
        "for i in range(10):\n",
        "\tprint(X[i], y[i])\n",
        " "
      ],
      "execution_count": 4,
      "outputs": [
        {
          "output_type": "stream",
          "text": [
            "(1000, 2) (1000, 3)\n",
            "[18. 35.] [1 1 1]\n",
            "[22. 33.] [1 1 1]\n",
            "[26. 36.] [1 1 1]\n",
            "[24. 28.] [1 1 0]\n",
            "[23. 27.] [1 1 0]\n",
            "[15. 31.] [0 1 0]\n",
            "[20. 37.] [0 1 0]\n",
            "[18. 31.] [1 1 1]\n",
            "[29. 27.] [1 0 0]\n",
            "[29. 28.] [1 1 0]\n"
          ],
          "name": "stdout"
        }
      ]
    },
    {
      "cell_type": "markdown",
      "metadata": {
        "id": "2RFgrd6G9QZj",
        "colab_type": "text"
      },
      "source": [
        "### 4. Imbalanced Classification\n",
        "[Imbalanced classification](https://machinelearningmastery.com/what-is-imbalanced-classification/) refers to classification tasks where the number of examples in each class is **unequally distributed**.\n",
        "\n",
        "Typically, imbalanced classification tasks are binary classification tasks where the majority of examples in the training dataset belong to the normal class and a minority of examples belong to the abnormal class.\n",
        "\n",
        "#### Imbalanced classification Examples:\n",
        "* Fraud detection.\n",
        "* Outlier detection.\n",
        "* Medical diagnostic tests. \n",
        "\n",
        "These problems are modeled s binary classification tasks, although may require specialized techniques. Specialized techniques may be used to change the composition of samples in the training dataset by `undersampling the majority class` or `oversampling the majority class`.\n",
        "#### Specialized modeling algorithm Examples:\n",
        "* [Random Undersampling](https://machinelearningmastery.com/random-oversampling-and-undersampling-for-imbalanced-classification/).\n",
        "* [SMOTE Oversampling](https://machinelearningmastery.com/smote-oversampling-for-imbalanced-classification/).\n",
        "\n",
        "\n",
        "Specialized modeling algorithms may be used that pay more attention to the minority class when fitting the model on the training dataset, such as cost-sensitive machine learning algorithms.\n",
        "\n",
        "#### Cost-sensitive Examples:\n",
        "* [Cost-sensitive Logistic Regression](https://machinelearningmastery.com/cost-sensitive-logistic-regression/).\n",
        "* Cost-sensitive Decision Trees.\n",
        "* Cost-sensitive Support Vector Machines.\n",
        "\n",
        "Finally, alternative performance metrics may be required as reporting the classification accuracy may be misleading.\n",
        "#### Performance metrics Examples include:\n",
        "* Precision.\n",
        "* Recall.\n",
        "* F-Measure.\n",
        "\n",
        "Next, let’s take a closer look at a dataset to develop an intuition for imbalanced classification problems. Use `the make_classification()` function to generate a synthetic imbalanced binary classification dataset.\n",
        "\n",
        "The example below generates a dataset with 1,000 examples that belong to one of two classes, each with two input features."
      ]
    },
    {
      "cell_type": "code",
      "metadata": {
        "id": "d9edtOYF9Vcw",
        "colab_type": "code",
        "colab": {
          "base_uri": "https://localhost:8080/",
          "height": 509
        },
        "outputId": "dd6818d4-ec37-4e03-95f6-35103d941713"
      },
      "source": [
        "# example of an imbalanced binary classification task\n",
        "from numpy import where\n",
        "from collections import Counter\n",
        "from sklearn.datasets import make_classification\n",
        "from matplotlib import pyplot\n",
        "# define dataset\n",
        "X, y = make_classification(n_samples=1000, n_features=2, n_informative=2, n_redundant=0, n_classes=2, n_clusters_per_class=1, weights=[0.99,0.01], random_state=1)\n",
        "# summarize dataset shape\n",
        "print(X.shape, y.shape)\n",
        "# summarize observations by class label\n",
        "counter = Counter(y)\n",
        "print(counter)\n",
        "# summarize first few examples\n",
        "for i in range(10):\n",
        "\tprint(X[i], y[i])\n",
        "'''In this case, we can see that most examples belong to class 0'''\n",
        "# plot the dataset and color the by class label\n",
        "for label, _ in counter.items():\n",
        "\trow_ix = where(y == label)[0]\n",
        "\tpyplot.scatter(X[row_ix, 0], X[row_ix, 1], label=str(label))\n",
        "pyplot.legend()\n",
        "pyplot.show()\n",
        "\n",
        "'''one main cluster for examples that belong to class 0 and a few scattered examples that belong to class 1. \n",
        "The intuition is that datasets with this property of imbalanced class labels are more challenging to model.'''"
      ],
      "execution_count": 5,
      "outputs": [
        {
          "output_type": "stream",
          "text": [
            "(1000, 2) (1000,)\n",
            "Counter({0: 983, 1: 17})\n",
            "[0.86924745 1.18613612] 0\n",
            "[1.55110839 1.81032905] 0\n",
            "[1.29361936 1.01094607] 0\n",
            "[1.11988947 1.63251786] 0\n",
            "[1.04235568 1.12152929] 0\n",
            "[1.18114858 0.92397607] 0\n",
            "[1.1365562  1.17652556] 0\n",
            "[0.46291729 0.72924998] 0\n",
            "[0.18315826 1.07141766] 0\n",
            "[0.32411648 0.53515376] 0\n"
          ],
          "name": "stdout"
        },
        {
          "output_type": "display_data",
          "data": {
            "image/png": "[encoded data removed]",
            "text/plain": [
              "<Figure size 432x288 with 1 Axes>"
            ]
          },
          "metadata": {
            "tags": [],
            "needs_background": "light"
          }
        },
        {
          "output_type": "execute_result",
          "data": {
            "application/vnd.google.colaboratory.intrinsic": {
              "type": "string"
            },
            "text/plain": [
              "'one main cluster for examples that belong to class 0 and a few scattered examples that belong to class 1. \\nThe intuition is that datasets with this property of imbalanced class labels are more challenging to model.'"
            ]
          },
          "metadata": {
            "tags": []
          },
          "execution_count": 5
        }
      ]
    },
    {
      "cell_type": "code",
      "metadata": {
        "id": "ViFInOjUDxhC",
        "colab_type": "code",
        "colab": {}
      },
      "source": [
        ""
      ],
      "execution_count": null,
      "outputs": []
    }
  ]
}