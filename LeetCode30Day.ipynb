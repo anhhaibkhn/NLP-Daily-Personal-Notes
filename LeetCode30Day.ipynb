{
 "nbformat": 4,
 "nbformat_minor": 2,
 "metadata": {
  "language_info": {
   "name": "python",
   "codemirror_mode": {
    "name": "ipython",
    "version": 3
   },
   "version": "3.7.7-final"
  },
  "orig_nbformat": 2,
  "file_extension": ".py",
  "mimetype": "text/x-python",
  "name": "python",
  "npconvert_exporter": "python",
  "pygments_lexer": "ipython3",
  "version": 3,
  "kernelspec": {
   "name": "python37464bitvirtualenvvenv9acec58b124a4af58980f597288afade",
   "display_name": "Python 3.7.4 64-bit ('virtual_env': venv)"
  }
 },
 "cells": [
  {
   "cell_type": "code",
   "execution_count": 1,
   "metadata": {},
   "outputs": [
    {
     "output_type": "stream",
     "name": "stdout",
     "text": "[99]\n"
    }
   ],
   "source": [
    "# Day 1. \n",
    "from typing import List\n",
    "class Solution:\n",
    "    def singleNumber(self, nums: List[int]) -> int:\n",
    "        # intilize a null list \n",
    "        unique_list = [] \n",
    "        dup = []\n",
    "        # traverse for all elements \n",
    "        for x in nums: \n",
    "            # check if exists in unique_list or not \n",
    "            if x in unique_list: \n",
    "                unique_list.remove(x)\n",
    "                dup.append(x)\n",
    "            else:\n",
    "                if x not in dup:\n",
    "                    unique_list.append(x)\n",
    "        # print list\n",
    "        return unique_list\n",
    "\n",
    "\n",
    "InputArr = [0,1,0,1,0,1,99]\n",
    "InputArr2 = [2,2,1]\n",
    "A = Solution()\n",
    "\n",
    "print(A.singleNumber(InputArr))"
   ]
  },
  {
   "cell_type": "code",
   "execution_count": 24,
   "metadata": {},
   "outputs": [
    {
     "output_type": "stream",
     "name": "stdout",
     "text": "2\n{'__module__': '__main__', 'raise_amount': 1.04, 'num_of_emps': 2, '__init__': <function Employee.__init__ at 0x000001A019EDEF78>, 'fullname': <function Employee.fullname at 0x000001A019EDE798>, 'apply_raise': <function Employee.apply_raise at 0x000001A019EDE4C8>, '__dict__': <attribute '__dict__' of 'Employee' objects>, '__weakref__': <attribute '__weakref__' of 'Employee' objects>, '__doc__': None}\n"
    }
   ],
   "source": [
    "\"\"\"Review PYTHON OOP\"\"\"\n",
    "class Employee:\n",
    "\n",
    "    raise_amount = 1.04\n",
    "    num_of_emps = 0 # Constant global variable in class \n",
    "\n",
    "    def __init__(self, first, last, pay):\n",
    "        # within fucntion it is instance variable \n",
    "        self.first = first\n",
    "        self.last = last\n",
    "        self.pay = pay \n",
    "        self.email = first + '.' + last + '@company.com'\n",
    "        Employee.num_of_emps += 1 # Can not be self.num_of_emps \n",
    "\n",
    "    def fullname(self):\n",
    "        return '{} {}'.format(self.first, self.last)\n",
    "    \n",
    "    def apply_raise(self):\n",
    "        # self.pay = int(self.pay * 1.04)    # Error\n",
    "        # self.pay = int(self.pay * self.raise_amount)   # OK\n",
    "        self.pay = int(self.pay * Employee.raise_amount) # OK \n",
    "\n",
    "emp_1 = Employee('Hai', 'Nguyen', 50000)\n",
    "emp_2 = Employee('Hoang', 'Nguyen', 60000)\n",
    "\n",
    "print(Employee.num_of_emps)\n",
    "\n",
    "# print(emp_1.pay)\n",
    "# emp_1.apply_raise()\n",
    "# print(emp_1.pay)\n",
    "\n",
    "# print(Employee.raise_amount)\n",
    "# print(emp_1.raise_amount)\n",
    "# print(emp_2.raise_amount)\n",
    "\n",
    "# Employee.raise_amount = 1.05 # Change global raise_amount\n",
    "# print(emp_2.raise_amount)\n",
    "# emp_1.raise_amount = 1.06\n",
    "# print(emp_1.raise_amount)\n",
    "\n",
    "# print(emp_1.__dict__) # This does not have the raise_amount\n",
    "# print(emp_2.__dict__)\n",
    "print(Employee.__dict__) # This has the raise_amount \n",
    "\n"
   ]
  },
  {
   "cell_type": "code",
   "execution_count": 22,
   "metadata": {},
   "outputs": [
    {
     "output_type": "stream",
     "name": "stdout",
     "text": "[1, 3, 3]\n[1, 9]\n[8, 2]\n[6, 8]\n[1, 0, 0]\n"
    },
    {
     "output_type": "execute_result",
     "data": {
      "text/plain": "([19, 82, 68, 100, 1], True)"
     },
     "metadata": {},
     "execution_count": 22
    }
   ],
   "source": [
    "#Day 2 Happy Number \n",
    "\"\"\"Input: 19\n",
    "Output: true\n",
    "Explanation: \n",
    "12 + 92 = 82\n",
    "82 + 22 = 68\n",
    "62 + 82 = 100\n",
    "12 + 02 + 02 = 1\"\"\"\n",
    "# import numpy as np\n",
    "# class Solution:\n",
    "#     def isHappy(self, n: int) -> bool:\n",
    "#         while(n > 1):\n",
    "#             digits = [int(x) for x in str(n)]\n",
    "#             arr = np.array(digits)\n",
    "#             n = np.sum(arr**2)\n",
    "#         return n \n",
    "\n",
    "class Solution:\n",
    "    def isHappy(self, n: int):\n",
    "        visited = []\n",
    "        while(n > 1):\n",
    "            digits = [int(x) for x in str(n)]\n",
    "            print(digits)\n",
    "            n = sum(i*i for i in digits)\n",
    "            # n = sum(map(lambda i : i * i, digits))\n",
    "            if n not in visited:\n",
    "                visited.append(n)\n",
    "            else:\n",
    "                return visited, False\n",
    "        return visited, True\n",
    "          \n",
    "Test1 = Solution()\n",
    "Test1.isHappy(133)"
   ]
  },
  {
   "cell_type": "code",
   "execution_count": null,
   "metadata": {},
   "outputs": [],
   "source": []
  }
 ]
}