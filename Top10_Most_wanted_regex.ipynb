{
 "cells": [
  {
   "cell_type": "code",
   "execution_count": 2,
   "metadata": {},
   "outputs": [
    {
     "name": "stdout",
     "output_type": "stream",
     "text": "Search successful.\n"
    }
   ],
   "source": [
    "\"\"\"a RegEx pattern. The pattern is: any five letter string starting with a and ending with s.\"\"\"\n",
    "import re\n",
    "\n",
    "pattern = '^a...s$'\n",
    "test_string = 'abyss'\n",
    "result = re.match(pattern, test_string)\n",
    "\n",
    "if result:\n",
    "  print(\"Search successful.\")\n",
    "else:\n",
    "  print(\"Search unsuccessful.\")\t\n",
    "\n"
   ]
  },
  {
   "cell_type": "code",
   "execution_count": 3,
   "metadata": {},
   "outputs": [
    {
     "name": "stdout",
     "output_type": "stream",
     "text": "['12', '89', '34']\n"
    }
   ],
   "source": [
    "# Program to extract numbers from a string\n",
    "import re\n",
    "\n",
    "string = 'hello 12 hi 89. Howdy 34'\n",
    "pattern = '\\d+'\n",
    "# If the pattern is no found, re.findall() returns an empty list.\n",
    "result = re.findall(pattern, string) \n",
    "print(result)"
   ]
  },
  {
   "cell_type": "code",
   "execution_count": 4,
   "metadata": {},
   "outputs": [
    {
     "name": "stdout",
     "output_type": "stream",
     "text": "['Twelve:', ' Eighty nine:', '.']\n"
    }
   ],
   "source": [
    "\"\"\"The re.split method splits the string where there is a match and returns a list of strings where the splits have occurred.\"\"\"\n",
    "import re\n",
    "\n",
    "string = 'Twelve:12 Eighty nine:89.'\n",
    "pattern = '\\d+'\n",
    "\n",
    "result = re.split(pattern, string) \n",
    "print(result)"
   ]
  },
  {
   "cell_type": "code",
   "execution_count": 8,
   "metadata": {},
   "outputs": [
    {
     "name": "stdout",
     "output_type": "stream",
     "text": "abc12de 23 \n f45 6\n"
    }
   ],
   "source": [
    "\"\"\"re.sub()\n",
    "The syntax  is: re.sub(pattern, replace, string)\n",
    "The method returns a string where matched occurrences are replaced with the content of replace variable.\"\"\"\n",
    "# Program to remove all whitespaces\n",
    "import re\n",
    "# multiline string\n",
    "string = 'abc 12\\\n",
    "de 23 \\n f45 6'\n",
    "\n",
    "# matches all whitespace characters\n",
    "pattern = '\\s+'\n",
    "# empty string\n",
    "replace = ''\n",
    "\"\"\"You can pass count as a fourth parameter to the re.sub() method. If omited, it results to 0. This will replace all occurrences.\"\"\"\n",
    "new_string = re.sub(pattern, replace, string,1) \n",
    "print(new_string)\n"
   ]
  },
  {
   "cell_type": "code",
   "execution_count": 10,
   "metadata": {},
   "outputs": [
    {
     "name": "stdout",
     "output_type": "stream",
     "text": "('abc12de23f456', 4)\nabc12de23f456\n4\n"
    }
   ],
   "source": [
    "# Program to remove all whitespaces\n",
    "import re\n",
    "\n",
    "# multiline string\n",
    "string = 'abc 12\\\n",
    "de 23 \\n f45 6'\n",
    "\n",
    "# matches all whitespace characters\n",
    "pattern = '\\s+'\n",
    "\n",
    "# empty string\n",
    "replace = ''\n",
    "# subn returns a tuple of 2 items containing the new string and the number of substitutions made\n",
    "new_string = re.subn(pattern, replace, string) \n",
    "print(new_string)\n",
    "print(new_string[0])\n",
    "print(new_string[1])\n"
   ]
  },
  {
   "cell_type": "code",
   "execution_count": 11,
   "metadata": {},
   "outputs": [
    {
     "name": "stdout",
     "output_type": "stream",
     "text": "pattern found inside the string\n"
    }
   ],
   "source": [
    "\"\"\"The re.search() method takes two arguments: a pattern and a string. The method looks for the first location where the RegEx pattern produces a match with the string.\n",
    "\n",
    "If the search is successful, re.search() returns a match object; if not, it returns\"\"\"\n",
    "import re\n",
    "string = \"Python is fun\"\n",
    "\n",
    "# check if 'Python' is at the beginning\n",
    "match = re.search('\\APython', string)\n",
    "\n",
    "if match:\n",
    "  print(\"pattern found inside the string\")\n",
    "else:\n",
    "  print(\"pattern not found\")  \n"
   ]
  },
  {
   "cell_type": "code",
   "execution_count": 23,
   "metadata": {},
   "outputs": [
    {
     "name": "stdout",
     "output_type": "stream",
     "text": "555 555\n"
    },
    {
     "data": {
      "text/plain": "22"
     },
     "execution_count": 23,
     "metadata": {},
     "output_type": "execute_result"
    }
   ],
   "source": [
    "# The group() method returns the part of the string where there is a match.\n",
    "# Example 6: Match object\n",
    "import re\n",
    "\n",
    "string = ' 39801 356, 2102 1111, 555 555'\n",
    "\n",
    "# Three digit number followed by space followed by two digit number\n",
    "pattern = ' (\\d{3}) (\\d{3})'\n",
    "\n",
    "# match variable contains a Match object.\n",
    "match = re.search(pattern, string) \n",
    "\n",
    "if match:\n",
    "  print(match.group())\n",
    "else:\n",
    "  print(\"pattern not found\")\n",
    "\n",
    "match.group(1)\n",
    "match.start()"
   ]
  },
  {
   "cell_type": "code",
   "execution_count": 24,
   "metadata": {},
   "outputs": [
    {
     "name": "stdout",
     "output_type": "stream",
     "text": "['\\n', '\\r']\n"
    }
   ],
   "source": [
    "# Example 7: Raw string using r prefix\n",
    "import re\n",
    "\n",
    "string = '\\n and \\r are escape sequences.'\n",
    "\n",
    "result = re.findall(r'[\\n\\r]', string) \n",
    "print(result)"
   ]
  },
  {
   "cell_type": "code",
   "execution_count": 47,
   "metadata": {},
   "outputs": [
    {
     "name": "stdout",
     "output_type": "stream",
     "text": "Match 1 was found at 0-4: test\nGroup 1 found at 0-4:test\nMatch 2 was found at 5-28:   avoid starting spaces\nGroup 1 found at 7-28:avoid starting spaces\nMatch 3 was found at 29-50: avoid ending spaces  \nGroup 1 found at 29-48:avoid ending spaces\nMatch 4 was found at 51-85:  avoid starting and ending spaces \nGroup 1 found at 52-84:avoid starting and ending spaces\n"
    }
   ],
   "source": [
    "\"\"\"\"TOP 10 Most wanted regex \"####\n",
    "#1. Matches text avoiding additional spaces\"\"\"\n",
    "import re\n",
    "\n",
    "regex1 = r\"^[\\s]*(.*?)[\\s]*$\"\n",
    "\n",
    "test_str = (\"test\\n\"\n",
    "\t\"  avoid starting spaces\\n\"\n",
    "\t\"avoid ending spaces  \\n\"\n",
    "\t\" avoid starting and ending spaces \")\n",
    "\n",
    "matches = re.finditer(regex1, test_str, re.MULTILINE)\n",
    "\n",
    "\n",
    "for matchNum, match in enumerate(matches, start=1):\n",
    "    \n",
    "    print (\"Match {matchNum} was found at {start}-{end}: {match}\".format(matchNum = matchNum, start = match.start(), end = match.end(), match = match.group()))\n",
    "    \n",
    "    for groupNum in range(0, len(match.groups())):\n",
    "        groupNum = groupNum + 1\n",
    "        \n",
    "        print (\"Group {groupNum} found at {start}-{end}:{group}\".format(groupNum = groupNum, start = match.start(groupNum), end = match.end(groupNum), group = match.group(groupNum)))\n"
   ]
  },
  {
   "cell_type": "code",
   "execution_count": 48,
   "metadata": {},
   "outputs": [
    {
     "name": "stdout",
     "output_type": "stream",
     "text": "Match 1 was found at 0-46: <a>match only <b>the corresponding</b> tag</a>\nGroup 1 found at 1-2: a\nGroup 2 found at -1--1: None\nGroup 3 found at 3-42: match only <b>the corresponding</b> tag\nMatch 2 was found at 70-83: <b> text </b>\nGroup 1 found at 71-72: b\nGroup 2 found at -1--1: None\nGroup 3 found at 73-79:  text \n"
    }
   ],
   "source": [
    "\"\"\"\"TOP 10 Most wanted regex \"####\n",
    "#2. HTML Tag: Matches any valid HTML tag and the corresponding closing tag\"\"\"\n",
    "import re\n",
    "\n",
    "regex = r\"<([a-z]+)([^<]+)*(?:>(.*)<\\/\\1>|\\s+\\/>)\"\n",
    "\n",
    "test_str = \"<a>match only <b>the corresponding</b> tag</a> even if there is other <b> text </b>\"\n",
    "\n",
    "matches = re.finditer(regex, test_str, re.MULTILINE)\n",
    "\n",
    "for matchNum, match in enumerate(matches, start=1):\n",
    "    \n",
    "    print (\"Match {matchNum} was found at {start}-{end}: {match}\".format(matchNum = matchNum, start = match.start(), end = match.end(), match = match.group()))\n",
    "    \n",
    "    for groupNum in range(0, len(match.groups())):\n",
    "        groupNum = groupNum + 1\n",
    "        \n",
    "        print (\"Group {groupNum} found at {start}-{end}: {group}\".format(groupNum = groupNum, start = match.start(groupNum), end = match.end(groupNum), group = match.group(groupNum)))"
   ]
  },
  {
   "cell_type": "code",
   "execution_count": 49,
   "metadata": {},
   "outputs": [
    {
     "name": "stdout",
     "output_type": "stream",
     "text": "Match 1 was found at 0-4: #fff\nGroup 1 found at 1-4: fff\nMatch 2 was found at 5-12: #fefefe\nGroup 1 found at 6-12: fefefe\nMatch 3 was found at 13-20: #242424\nGroup 1 found at 14-20: 242424\nMatch 4 was found at 21-28: #24ff33\nGroup 1 found at 22-28: 24ff33\n"
    }
   ],
   "source": [
    "\"\"\"\"TOP 10 Most wanted regex \"####\n",
    "#3.Hexadecimal value — try it! Matches any valid hex color inside text\"\"\"\n",
    "import re\n",
    "\n",
    "regex = r\"\\B#([a-fA-F0-9]{6}|[a-fA-F0-9]{3})\\b\"\n",
    "\n",
    "test_str = (\"#fff\\n\"\n",
    "\t\"#fefefe\\n\"\n",
    "\t\"#242424\\n\"\n",
    "\t\"#24ff33\\n\"\n",
    "\t\"#24ff3o //o is not a valid hex value\")\n",
    "\n",
    "matches = re.finditer(regex, test_str)\n",
    "\n",
    "for matchNum, match in enumerate(matches, start=1):\n",
    "    \n",
    "    print (\"Match {matchNum} was found at {start}-{end}: {match}\".format(matchNum = matchNum, start = match.start(), end = match.end(), match = match.group()))\n",
    "    \n",
    "    for groupNum in range(0, len(match.groups())):\n",
    "        groupNum = groupNum + 1\n",
    "        \n",
    "        print (\"Group {groupNum} found at {start}-{end}: {group}\".format(groupNum = groupNum, start = match.start(groupNum), end = match.end(groupNum), group = match.group(groupNum)))\n",
    "        "
   ]
  },
  {
   "cell_type": "code",
   "execution_count": null,
   "metadata": {},
   "outputs": [],
   "source": [
    "\n",
    "\n"
   ]
  },
  {
   "cell_type": "code",
   "execution_count": 51,
   "metadata": {},
   "outputs": [
    {
     "name": "stdout",
     "output_type": "stream",
     "text": "['john.doe@my-domain.com', 'valid-email@email.com']\nMatch 1 was found at 30-52: john.doe@my-domain.com\nMatch 2 was found at 65-86: valid-email@email.com\n"
    }
   ],
   "source": [
    "\"\"\"\"TOP 10 Most wanted regex \"####\n",
    "#4. Valid email (RFC5322) — try it! Matches any valid email inside text\"\"\"\n",
    "# https://stackoverflow.com/questions/3765024/different-behavior-between-re-finditer-and-re-findall\n",
    "import re\n",
    "\n",
    "regex = r\"\\b[\\w.!#$%&’*+\\/=?^`{|}~-]+@[\\w-]+(?:\\.[\\w-]+)*\\b\" # pattern\n",
    "\n",
    "test_str = (\"Matches an email address like john.doe@my-domain.com inside text\\n\"\n",
    "\t\"valid-email@email.com\\n\"\n",
    "\t\"not!valid@#email.com\")\n",
    "\n",
    "# Using re.findall match variable contains a Match object.\n",
    "result = re.findall(regex, test_str) \n",
    "print(result)\n",
    "\n",
    "# Using re.finditer \n",
    "matches = re.finditer(regex, test_str, re.MULTILINE)\n",
    "\n",
    "\n",
    "for matchNum, match in enumerate(matches, start=1):\n",
    "    \n",
    "    print (\"Match {matchNum} was found at {start}-{end}: {match}\".format(matchNum = matchNum, start = match.start(), end = match.end(), match = match.group()))\n",
    "    \n",
    "    for groupNum in range(0, len(match.groups())):\n",
    "        groupNum = groupNum + 1\n",
    "        \n",
    "        print (\"Group {groupNum} found at {start}-{end}: {group}\".format(groupNum = groupNum, start = match.start(groupNum), end = match.end(groupNum), group = match.group(groupNum)))\n",
    "\n"
   ]
  },
  {
   "cell_type": "code",
   "execution_count": 59,
   "metadata": {},
   "outputs": [
    {
     "name": "stdout",
     "output_type": "stream",
     "text": "Match was found at 15-25: valid-user\n"
    }
   ],
   "source": [
    "\"\"\"\"TOP 10 Most wanted regex \"####\n",
    "#5. Username (simple) Minimum length of 3, maximum length of 16, composed by letters, numbers or dashes\"\"\"\n",
    "import re\n",
    "\n",
    "regex = r\"^[a-z0-9_-]{3,16}$\"\n",
    "\n",
    "test_str = (\"not-valid user\\n\"\n",
    "\t\"valid-user\\n\")\n",
    "\n",
    "matches = re.search(regex, test_str, re.MULTILINE)\n",
    "\n",
    "if matches:\n",
    "    print (\"Match was found at {start}-{end}: {match}\".format(start = matches.start(), end = matches.end(), match = matches.group()))\n",
    "    \n",
    "    for groupNum in range(0, len(matches.groups())):\n",
    "        groupNum = groupNum + 1\n",
    "        \n",
    "        print (\"Group {groupNum} found at {start}-{end}: {group}\".format(groupNum = groupNum, start = matches.start(groupNum), end = matches.end(groupNum), group = matches.group(groupNum)))\n"
   ]
  },
  {
   "cell_type": "code",
   "execution_count": 60,
   "metadata": {},
   "outputs": [
    {
     "name": "stdout",
     "output_type": "stream",
     "text": "Match 1 was found at 0-19: my valid 2passwoRd+\nGroup 1 found at 0-0: \n"
    }
   ],
   "source": [
    "\"\"\"\"TOP 10 Most wanted regex \"####\n",
    "#6.Strong password : Minimum length of 6, at least one uppercase letter, at least one lowercase letter, at least one number, at least one special character \"\"\" \n",
    "import re\n",
    "\n",
    "regex = r\"(?=^.{6,}$)((?=.*\\w)(?=.*[A-Z])(?=.*[a-z])(?=.*[0-9])(?=.*[|!\\\"$%&\\/\\(\\)\\?\\^\\'\\\\\\+\\-\\*]))^.*\"\n",
    "\n",
    "test_str = (\"my valid 2passwoRd+\\n\"\n",
    "\t\"my missing number passwoRd+\\n\"\n",
    "\t\"MY MISSING LOWERCASE LETTER 2PASSWORD+\\n\"\n",
    "\t\"my missing uppercase letter 2passwod+\\n\"\n",
    "\t\"my missing special character 2passwoRd\\n\"\n",
    "\t\"not valid password\")\n",
    "\n",
    "matches = re.finditer(regex, test_str, re.MULTILINE)\n",
    "\n",
    "for matchNum, match in enumerate(matches, start=1):\n",
    "    \n",
    "    print (\"Match {matchNum} was found at {start}-{end}: {match}\".format(matchNum = matchNum, start = match.start(), end = match.end(), match = match.group()))\n",
    "    \n",
    "    for groupNum in range(0, len(match.groups())):\n",
    "        groupNum = groupNum + 1\n",
    "        \n",
    "        print (\"Group {groupNum} found at {start}-{end}: {group}\".format(groupNum = groupNum, start = match.start(groupNum), end = match.end(groupNum), group = match.group(groupNum)))\n"
   ]
  },
  {
   "cell_type": "code",
   "execution_count": 61,
   "metadata": {},
   "outputs": [
    {
     "name": "stdout",
     "output_type": "stream",
     "text": "Match 1 was found at 0-14: 1a2b3cd2312321\nGroup 1 found at 6-7: d\nGroup 2 found at 0-14: 1a2b3cd2312321\nMatch 2 was found at 15-30: 12q32131231231f\nGroup 1 found at 18-30: 32131231231f\nGroup 2 found at 15-30: 12q32131231231f\nMatch 3 was found at 148-180: 12222a22333fw342434234234weqweqw\nGroup 1 found at 179-180: w\nGroup 2 found at 148-180: 12222a22333fw342434234234weqweqw\n"
    }
   ],
   "source": [
    "\"\"\"\"TOP 10 Most wanted regex \"####\n",
    "#7. 2 of a kind: At least 2 letters (uppercase or lowercase) at any index,\n",
    "     minimum length of 8, maximum length of 3\"\"\" \n",
    "import re\n",
    "\n",
    "regex = r\"^(?=([0-9]*[a-z]){2,})([a-zA-Z0-9]{8,32})$\"\n",
    "\n",
    "test_str = (\"1a2b3cd2312321\\n\"\n",
    "\t\"12q32131231231f\\n\"\n",
    "\t\"32132131231231231231221\\n\"\n",
    "\t\"aa\\n\"\n",
    "\t\"12222a22333fw342434234234weqweqweqweqweqweqweqweqweqweqweqweqwewqeqweqwewqeqweqweqweqweqw\\n\"\n",
    "\t\"12222a22333fw342434234234weqweqw\")\n",
    "\n",
    "matches = re.finditer(regex, test_str, re.MULTILINE)\n",
    "\n",
    "for matchNum, match in enumerate(matches, start=1):\n",
    "    \n",
    "    print (\"Match {matchNum} was found at {start}-{end}: {match}\".format(matchNum = matchNum, start = match.start(), end = match.end(), match = match.group()))\n",
    "    \n",
    "    for groupNum in range(0, len(match.groups())):\n",
    "        groupNum = groupNum + 1\n",
    "        \n",
    "        print (\"Group {groupNum} found at {start}-{end}: {group}\".format(groupNum = groupNum, start = match.start(groupNum), end = match.end(groupNum), group = match.group(groupNum)))\n",
    "\n",
    "\n",
    "\"\"\"If you want to use capturing groups to get scheme, path, etc. (or add user-info, host, port…)!\"\"\"\n",
    "regHTTP = r\"^(((https?|ftp):\\/\\/)?([\\w\\-\\.])+(\\.)([\\w]){2,4}([\\w\\/+=%&_\\.~?\\-]*))*$\"\n"
   ]
  },
  {
   "cell_type": "code",
   "execution_count": 70,
   "metadata": {},
   "outputs": [
    {
     "name": "stdout",
     "output_type": "stream",
     "text": "Match 1 was found at 0-11: 192.168.0.1\nMatch 2 was found at 12-25: 255.255.255.0\nMatch 3 was found at 31-38: 0.0.0.0\nMatch 4 was found at 49-58: 127.0.0.1\nMatch 5 was found at 98-108: 89.35.35.0\n"
    }
   ],
   "source": [
    "\"\"\"\"TOP 10 Most wanted regex \"####\n",
    "#8.IPv4 address . Matches any valid IPv4 address inside text \"\"\" \n",
    "import re\n",
    "\n",
    "regex = r\"\\b(?:(?:25[0-5]|2[0-4]\\d|[01]?\\d\\d?)\\.){3}(?:25[0-5]|2[0-4]\\d|[01]?\\d\\d?)\\b\"\n",
    "\n",
    "test_str = (\"192.168.0.1\\n\"\n",
    "\t\"255.255.255.0 kkk \\n\"\n",
    "\t\"0.0.0.0 kkk \\n\"\n",
    "\t\" kkk 127.0.0.1\\n\"\n",
    "\t\" kkk 256.0.0.1\\n\"\n",
    "\t\"there is my IP address (89.35.35.0) inside this text\")\n",
    "\n",
    "matches = re.finditer(regex, test_str, re.MULTILINE)\n",
    "\n",
    "for matchNum, match in enumerate(matches, start=1):\n",
    "    \n",
    "    print (\"Match {matchNum} was found at {start}-{end}: {match}\".format(matchNum = matchNum, start = match.start(), end = match.end(), match = match.group()))\n",
    "    \n",
    "    for groupNum in range(0, len(match.groups())):\n",
    "        groupNum = groupNum + 1\n",
    "        \n",
    "        print (\"Group {groupNum} found at {start}-{end}: {group}\".format(groupNum = groupNum, start = match.start(groupNum), end = match.end(groupNum), group = match.group(groupNum)))    \n"
   ]
  },
  {
   "cell_type": "code",
   "execution_count": 71,
   "metadata": {},
   "outputs": [
    {
     "name": "stdout",
     "output_type": "stream",
     "text": "Match 1 was found at 0-18: www[.]domain[.]com\nGroup 1 found at 10-18: in[.]com\nGroup 2 found at -1--1: None\nGroup 3 found at -1--1: None\nGroup 4 found at 11-12: n\nGroup 5 found at 12-15: [.]\nGroup 6 found at 17-18: m\nGroup 7 found at 18-18: \nMatch 2 was found at 19-33: www.domain.com\nGroup 1 found at 19-33: www.domain.com\nGroup 2 found at -1--1: None\nGroup 3 found at -1--1: None\nGroup 4 found at 28-29: n\nGroup 5 found at 29-30: .\nGroup 6 found at 32-33: m\nGroup 7 found at 33-33: \nMatch 3 was found at 34-59: hxxp://www[.]domain[.]com\nGroup 1 found at 51-59: in[.]com\nGroup 2 found at 34-41: hxxp://\nGroup 3 found at 34-38: hxxp\nGroup 4 found at 52-53: n\nGroup 5 found at 53-56: [.]\nGroup 6 found at 58-59: m\nGroup 7 found at 59-59: \nMatch 4 was found at 60-60: \nGroup 1 found at -1--1: None\nGroup 2 found at -1--1: None\nGroup 3 found at -1--1: None\nGroup 4 found at -1--1: None\nGroup 5 found at -1--1: None\nGroup 6 found at -1--1: None\nGroup 7 found at 60-60: \nMatch 5 was found at 61-89: 192.168.8.1/folder/file.html\nGroup 1 found at 61-68: 192.168\nGroup 2 found at -1--1: None\nGroup 3 found at -1--1: None\nGroup 4 found at 63-64: 2\nGroup 5 found at 64-65: .\nGroup 6 found at 67-68: 8\nGroup 7 found at 68-89: .8.1/folder/file.html\nMatch 6 was found at 90-90: \nGroup 1 found at -1--1: None\nGroup 2 found at -1--1: None\nGroup 3 found at -1--1: None\nGroup 4 found at -1--1: None\nGroup 5 found at -1--1: None\nGroup 6 found at -1--1: None\nGroup 7 found at 90-90: \nMatch 7 was found at 91-104: 192.168.1[.]1\nGroup 1 found at 91-104: 192.168.1[.]1\nGroup 2 found at -1--1: None\nGroup 3 found at -1--1: None\nGroup 4 found at -1--1: None\nGroup 5 found at -1--1: None\nGroup 6 found at -1--1: None\nGroup 7 found at 104-104: \nMatch 8 was found at 105-135: 192.168.1[.]1/folder/file.html\nGroup 1 found at 105-118: 192.168.1[.]1\nGroup 2 found at -1--1: None\nGroup 3 found at -1--1: None\nGroup 4 found at -1--1: None\nGroup 5 found at -1--1: None\nGroup 6 found at -1--1: None\nGroup 7 found at 118-135: /folder/file.html\nMatch 9 was found at 136-170: 192[.]168[.]1[.]1/folder/file.html\nGroup 1 found at 136-153: 192[.]168[.]1[.]1\nGroup 2 found at -1--1: None\nGroup 3 found at -1--1: None\nGroup 4 found at -1--1: None\nGroup 5 found at -1--1: None\nGroup 6 found at -1--1: None\nGroup 7 found at 153-170: /folder/file.html\nMatch 10 was found at 171-213: hxxp://www[.]domain[.]com/folder/file.html\nGroup 1 found at 188-196: in[.]com\nGroup 2 found at 171-178: hxxp://\nGroup 3 found at 171-175: hxxp\nGroup 4 found at 189-190: n\nGroup 5 found at 190-193: [.]\nGroup 6 found at 195-196: m\nGroup 7 found at 196-213: /folder/file.html\nMatch 11 was found at 214-214: \nGroup 1 found at -1--1: None\nGroup 2 found at -1--1: None\nGroup 3 found at -1--1: None\nGroup 4 found at -1--1: None\nGroup 5 found at -1--1: None\nGroup 6 found at -1--1: None\nGroup 7 found at 214-214: \n"
    }
   ],
   "source": [
    "\"\"\"\"TOP 10 Most wanted regex \"####\n",
    "#9. Defanged” URL or IPv4 address \"\"\" \n",
    "import re\n",
    "\n",
    "regex = r\"^(((h..ps?|f.p):\\/\\/)?(?:([\\w\\-\\.])+(\\[?\\.\\]?)([\\w]){2,4}|(?:(?:25[0-5]|2[0-4]\\d|[01]?\\d\\d?)\\[?\\.\\]?){3}(?:25[0-5]|2[0-4]\\d|[01]?\\d\\d?)))*([\\w\\/+=%&_\\.~?\\-]*)$\"\n",
    "\n",
    "test_str = (\"www[.]domain[.]com\\n\"\n",
    "\t\"www.domain.com\\n\"\n",
    "\t\"hxxp://www[.]domain[.]com\\n\\n\"\n",
    "\t\"192.168.8.1/folder/file.html\\n\\n\"\n",
    "\t\"192.168.1[.]1\\n\"\n",
    "\t\"192.168.1[.]1/folder/file.html\\n\"\n",
    "\t\"192[.]168[.]1[.]1/folder/file.html\\n\"\n",
    "\t\"hxxp://www[.]domain[.]com/folder/file.html\\n\")\n",
    "\n",
    "matches = re.finditer(regex, test_str, re.MULTILINE)\n",
    "\n",
    "for matchNum, match in enumerate(matches, start=1):\n",
    "    \n",
    "    print (\"Match {matchNum} was found at {start}-{end}: {match}\".format(matchNum = matchNum, start = match.start(), end = match.end(), match = match.group()))\n",
    "    \n",
    "    for groupNum in range(0, len(match.groups())):\n",
    "        groupNum = groupNum + 1\n",
    "        \n",
    "        print (\"Group {groupNum} found at {start}-{end}: {group}\".format(groupNum = groupNum, start = match.start(groupNum), end = match.end(groupNum), group = match.group(groupNum)))\n"
   ]
  },
  {
   "cell_type": "code",
   "execution_count": 93,
   "metadata": {},
   "outputs": [
    {
     "name": "stdout",
     "output_type": "stream",
     "text": "000123333 --->  False\n001245565 --->  True\n012548785 --->  True\n123456854 --->  True\n213254000 --->  True\n213250000 --->  False\n123544155 --->  True\n125875400 --->  True\n154878880 --->  True\n000-23-1234 --->  False\n001-23-0000 --->  False\n001-23-1000 --->  True\n120-00-1200 --->  True\n005-64-5541 --->  True\n121-25-1258 --->  True\n"
    }
   ],
   "source": [
    "\"\"\"\"TOP 10 Most wanted regex \"####\n",
    "#10. SSN — Social Security Number (simple) \"\"\" \n",
    "import re\n",
    "\n",
    "regex =r\"^((?<area>[\\d]{3})[-][\\d]{2}[-][\\d]{4})$\"\n",
    "\n",
    "test_str = (\"721-07-4426\\n\" \n",
    " \"000-00-0000\\n\"\n",
    " \"123-11-1234\\n\")\n",
    "\n",
    "matches = re.finditer(Regex, test_str)\n",
    "\n",
    "for matchNum, match in enumerate(matches, start=1):\n",
    "    \n",
    "    print (\"Match {matchNum} was found at {start}-{end}: {match}\".format(matchNum = matchNum, start = match.start(), end = match.end(), match = match.group()))\n",
    "    \n",
    "    # for groupNum in range(0, len(match.groups())):\n",
    "    #     groupNum = groupNum + 1\n",
    "        \n",
    "    #     print (\"Group {groupNum} found at {start}-{end}: {group}\".format(groupNum = groupNum, start = match.start(groupNum), end = match.end(groupNum), group = match.group(groupNum)))\n",
    "\n",
    "Regex = r\"^(?!000|.+0{4})(?:\\d{9}|\\d{3}-\\d{2}-\\d{4})$\"\n",
    "\n",
    "\n",
    "array = ['000123333','001245565','012548785','123456854','213254000','213250000','123544155','125875400','154878880','000-23-1234','001-23-0000','001-23-1000','120-00-1200','005-64-5541','121-25-1258']\n",
    "\n",
    "for item in array:\n",
    "    # print(item,\"---> \",bool(re.match(r'^(?!000|.+0{4})(?:\\d{9}|\\d{3}-\\d{2}-\\d{4})$', item)))\n",
    "    print(item,\"---> \",bool(re.match(Regex, item)))"
   ]
  },
  {
   "cell_type": "code",
   "execution_count": null,
   "metadata": {},
   "outputs": [],
   "source": []
  }
 ],
 "metadata": {
  "kernelspec": {
   "display_name": "Python 3.7.4 64-bit ('virtual_env': venv)",
   "language": "python",
   "name": "python37464bitvirtualenvvenv9acec58b124a4af58980f597288afade"
  },
  "language_info": {
   "codemirror_mode": {
    "name": "ipython",
    "version": 3
   },
   "file_extension": ".py",
   "mimetype": "text/x-python",
   "name": "python",
   "nbconvert_exporter": "python",
   "pygments_lexer": "ipython3",
   "version": "3.7.7-final"
  }
 },
 "nbformat": 4,
 "nbformat_minor": 2
}